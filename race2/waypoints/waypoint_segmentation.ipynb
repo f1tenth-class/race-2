{
 "cells": [
  {
   "cell_type": "code",
   "execution_count": 1,
   "metadata": {},
   "outputs": [],
   "source": [
    "import numpy as np\n",
    "import matplotlib.pyplot as plt"
   ]
  },
  {
   "cell_type": "code",
   "execution_count": 2,
   "metadata": {},
   "outputs": [],
   "source": [
    "original_waypoints = np.loadtxt('traj_raceline_0.5margin.csv', delimiter=',')"
   ]
  },
  {
   "cell_type": "code",
   "execution_count": 8,
   "metadata": {},
   "outputs": [],
   "source": [
    "def plot_waypoints(waypoints):\n",
    "    # plt.plot(waypoints[:,0], waypoints[:,1], 'r')\n",
    "    plt.plot(waypoints[:,0], waypoints[:,1], 'ro')\n",
    "    plt.axis('equal')\n",
    "    plt.show()"
   ]
  },
  {
   "cell_type": "code",
   "execution_count": 11,
   "metadata": {},
   "outputs": [],
   "source": [
    "segment_points = [\n",
    "    [-5.96, 0.515, 4.0, 1.5, 0.5],\n",
    "    [0.654, -0.63, 1.0, 0.5, 0.5],\n",
    "    [1.15, 3.25, 3.0, 1.5, 0.5],\n",
    "    [-3.36, 2.59, 1.0, 0.5, 0.5]\n",
    "    ]\n",
    "segment_points = np.array(segment_points)"
   ]
  },
  {
   "cell_type": "code",
   "execution_count": null,
   "metadata": {},
   "outputs": [],
   "source": [
    "plt.plot(original_waypoints[:,0], original_waypoints[:,1], 'ro')\n",
    "plt.plot(segment_points[:,0], segment_points[:,1], 'bo')\n",
    "plt.axis('equal')"
   ]
  },
  {
   "cell_type": "code",
   "execution_count": 16,
   "metadata": {},
   "outputs": [
    {
     "name": "stdout",
     "output_type": "stream",
     "text": [
      "[58, 93, 10, 35]\n"
     ]
    }
   ],
   "source": [
    "seg_start_idx = []\n",
    "for i in range(segment_points.shape[0]):\n",
    "    point = segment_points[i, :2]\n",
    "    dist = np.linalg.norm(original_waypoints[:,:2] - point, axis=1)\n",
    "    idx = np.argmin(dist)\n",
    "    seg_start_idx.append(idx)\n",
    "print(seg_start_idx)"
   ]
  },
  {
   "cell_type": "code",
   "execution_count": 31,
   "metadata": {},
   "outputs": [],
   "source": [
    "seg_waypoints = np.zeros((original_waypoints.shape[0], 7))\n",
    "seg_waypoints[:, :3] = original_waypoints[:, :3]\n",
    "seg_start_idx.append(seg_start_idx[0])\n",
    "for i in range(len(seg_start_idx)-1):\n",
    "    if seg_start_idx[i] > seg_start_idx[i+1]:\n",
    "        for j in range(seg_start_idx[i], original_waypoints.shape[0]):\n",
    "            seg_waypoints[j, 3:6] = segment_points[i, 2:]\n",
    "            seg_waypoints[j, 6] = i\n",
    "        for j in range(seg_start_idx[i+1]):\n",
    "            seg_waypoints[j, 3:6] = segment_points[0, 2:]\n",
    "            seg_waypoints[j, 6] = i\n",
    "    else:\n",
    "        for j in range(seg_start_idx[i], seg_start_idx[i+1]):\n",
    "            seg_waypoints[j, 3:6] = segment_points[i, 2:]\n",
    "            seg_waypoints[j, 6] = i\n"
   ]
  },
  {
   "cell_type": "code",
   "execution_count": 32,
   "metadata": {},
   "outputs": [],
   "source": [
    "np.savetxt('traj_raceline_0.5margin_segmented.csv', seg_waypoints, delimiter=',', fmt='%.3f')"
   ]
  },
  {
   "cell_type": "code",
   "execution_count": null,
   "metadata": {},
   "outputs": [],
   "source": [
    "colors = ['ro', 'bo', 'go', 'yo']\n",
    "for i in range(len(seg_start_idx)-1):\n",
    "    plt.plot(seg_waypoints[np.where(seg_waypoints[:,6] == i),0], seg_waypoints[np.where(seg_waypoints[:,6] == i),1], colors[i])"
   ]
  }
 ],
 "metadata": {
  "kernelspec": {
   "display_name": "Python 3",
   "language": "python",
   "name": "python3"
  },
  "language_info": {
   "codemirror_mode": {
    "name": "ipython",
    "version": 3
   },
   "file_extension": ".py",
   "mimetype": "text/x-python",
   "name": "python",
   "nbconvert_exporter": "python",
   "pygments_lexer": "ipython3",
   "version": "3.10.9"
  }
 },
 "nbformat": 4,
 "nbformat_minor": 2
}
